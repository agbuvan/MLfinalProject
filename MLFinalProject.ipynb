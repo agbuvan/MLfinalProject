{
 "cells": [
  {
   "cell_type": "code",
   "execution_count": 1,
   "metadata": {},
   "outputs": [
    {
     "name": "stdout",
     "output_type": "stream",
     "text": [
      "C:\\Users\\aditya\\Documents\n"
     ]
    }
   ],
   "source": [
    "import os\n",
    "cwd = os.getcwd()\n",
    "print(cwd)"
   ]
  },
  {
   "cell_type": "code",
   "execution_count": 2,
   "metadata": {},
   "outputs": [
    {
     "name": "stdout",
     "output_type": "stream",
     "text": [
      "['test.csv', 'test_v2.csv', 'train.csv', 'train_v2.csv']\n"
     ]
    }
   ],
   "source": [
    "import os\n",
    "import json\n",
    "import numpy as np\n",
    "import pandas as pd\n",
    "from pandas.io.json import json_normalize\n",
    "\n",
    "def rawProcess(inputFile='C:/Users/aditya/Documents/gData/train.csv', rowCount=None):\n",
    "    splitCol = ['device', 'geoNetwork', 'totals', 'trafficSource']\n",
    "\n",
    "    table = pd.read_csv(inputFile, converters={cName: json.loads for cName in splitCol}, dtype={'fullVisitorId': 'str'}, nrows=rowCount)\n",
    "\n",
    "    for cName in splitCol:\n",
    "        tmpCol = json_normalize(table[cName])\n",
    "        tmpCol.columns = [f\"{cName}.{innerCol}\" for innerCol in tmpCol.columns]\n",
    "        table = table.drop(cName, axis=1).merge(tmpCol, right_index=True, left_index=True)\n",
    "    print(f\"Loaded {os.path.basename(inputFile)}. Shape: {table.shape}\")\n",
    "    return table\n",
    "\n",
    "\n",
    "print(os.listdir(\"C:/Users/aditya/Documents/gData\"))"
   ]
  },
  {
   "cell_type": "code",
   "execution_count": 3,
   "metadata": {},
   "outputs": [
    {
     "name": "stdout",
     "output_type": "stream",
     "text": [
      "Loaded train.csv. Shape: (200000, 55)\n"
     ]
    }
   ],
   "source": [
    "trainSet = rawProcess(rowCount=200000)"
   ]
  },
  {
   "cell_type": "code",
   "execution_count": 4,
   "metadata": {},
   "outputs": [],
   "source": [
    "dropCol = [col for col in trainSet.columns if trainSet[col].nunique(dropna=False) == 1]"
   ]
  },
  {
   "cell_type": "code",
   "execution_count": 5,
   "metadata": {},
   "outputs": [
    {
     "data": {
      "text/plain": [
       "['socialEngagementType',\n",
       " 'device.browserSize',\n",
       " 'device.browserVersion',\n",
       " 'device.flashVersion',\n",
       " 'device.language',\n",
       " 'device.mobileDeviceBranding',\n",
       " 'device.mobileDeviceInfo',\n",
       " 'device.mobileDeviceMarketingName',\n",
       " 'device.mobileDeviceModel',\n",
       " 'device.mobileInputSelector',\n",
       " 'device.operatingSystemVersion',\n",
       " 'device.screenColors',\n",
       " 'device.screenResolution',\n",
       " 'geoNetwork.cityId',\n",
       " 'geoNetwork.latitude',\n",
       " 'geoNetwork.longitude',\n",
       " 'geoNetwork.networkLocation',\n",
       " 'totals.visits',\n",
       " 'trafficSource.adwordsClickInfo.criteriaParameters']"
      ]
     },
     "execution_count": 5,
     "metadata": {},
     "output_type": "execute_result"
    }
   ],
   "source": [
    "dropCol"
   ]
  },
  {
   "cell_type": "code",
   "execution_count": 6,
   "metadata": {},
   "outputs": [
    {
     "name": "stdout",
     "output_type": "stream",
     "text": [
      "Loaded test.csv. Shape: (200000, 53)\n"
     ]
    }
   ],
   "source": [
    "testSet=rawProcess('C:/Users/aditya/Documents/gData/test.csv', rowCount=200000)"
   ]
  },
  {
   "cell_type": "code",
   "execution_count": 7,
   "metadata": {},
   "outputs": [
    {
     "name": "stdout",
     "output_type": "stream",
     "text": [
      "{'totals.transactionRevenue', 'trafficSource.campaignCode'}\n"
     ]
    }
   ],
   "source": [
    "print( set(trainSet.columns).difference(set(testSet.columns)))"
   ]
  },
  {
   "cell_type": "code",
   "execution_count": 8,
   "metadata": {},
   "outputs": [],
   "source": [
    "trainSet = trainSet.drop(dropCol+['trafficSource.campaignCode']+['sessionId'], axis=1)"
   ]
  },
  {
   "cell_type": "code",
   "execution_count": 9,
   "metadata": {},
   "outputs": [
    {
     "data": {
      "text/html": [
       "<div>\n",
       "<style scoped>\n",
       "    .dataframe tbody tr th:only-of-type {\n",
       "        vertical-align: middle;\n",
       "    }\n",
       "\n",
       "    .dataframe tbody tr th {\n",
       "        vertical-align: top;\n",
       "    }\n",
       "\n",
       "    .dataframe thead th {\n",
       "        text-align: right;\n",
       "    }\n",
       "</style>\n",
       "<table border=\"1\" class=\"dataframe\">\n",
       "  <thead>\n",
       "    <tr style=\"text-align: right;\">\n",
       "      <th></th>\n",
       "      <th>channelGrouping</th>\n",
       "      <th>date</th>\n",
       "      <th>fullVisitorId</th>\n",
       "      <th>visitId</th>\n",
       "      <th>visitNumber</th>\n",
       "      <th>visitStartTime</th>\n",
       "      <th>device.browser</th>\n",
       "      <th>device.deviceCategory</th>\n",
       "      <th>device.isMobile</th>\n",
       "      <th>device.operatingSystem</th>\n",
       "      <th>...</th>\n",
       "      <th>trafficSource.adwordsClickInfo.gclId</th>\n",
       "      <th>trafficSource.adwordsClickInfo.isVideoAd</th>\n",
       "      <th>trafficSource.adwordsClickInfo.page</th>\n",
       "      <th>trafficSource.adwordsClickInfo.slot</th>\n",
       "      <th>trafficSource.campaign</th>\n",
       "      <th>trafficSource.isTrueDirect</th>\n",
       "      <th>trafficSource.keyword</th>\n",
       "      <th>trafficSource.medium</th>\n",
       "      <th>trafficSource.referralPath</th>\n",
       "      <th>trafficSource.source</th>\n",
       "    </tr>\n",
       "  </thead>\n",
       "  <tbody>\n",
       "    <tr>\n",
       "      <th>0</th>\n",
       "      <td>Organic Search</td>\n",
       "      <td>20160902</td>\n",
       "      <td>1131660440785968503</td>\n",
       "      <td>1472830385</td>\n",
       "      <td>1</td>\n",
       "      <td>1472830385</td>\n",
       "      <td>Chrome</td>\n",
       "      <td>desktop</td>\n",
       "      <td>False</td>\n",
       "      <td>Windows</td>\n",
       "      <td>...</td>\n",
       "      <td>NaN</td>\n",
       "      <td>NaN</td>\n",
       "      <td>NaN</td>\n",
       "      <td>NaN</td>\n",
       "      <td>(not set)</td>\n",
       "      <td>NaN</td>\n",
       "      <td>(not provided)</td>\n",
       "      <td>organic</td>\n",
       "      <td>NaN</td>\n",
       "      <td>google</td>\n",
       "    </tr>\n",
       "    <tr>\n",
       "      <th>1</th>\n",
       "      <td>Organic Search</td>\n",
       "      <td>20160902</td>\n",
       "      <td>377306020877927890</td>\n",
       "      <td>1472880147</td>\n",
       "      <td>1</td>\n",
       "      <td>1472880147</td>\n",
       "      <td>Firefox</td>\n",
       "      <td>desktop</td>\n",
       "      <td>False</td>\n",
       "      <td>Macintosh</td>\n",
       "      <td>...</td>\n",
       "      <td>NaN</td>\n",
       "      <td>NaN</td>\n",
       "      <td>NaN</td>\n",
       "      <td>NaN</td>\n",
       "      <td>(not set)</td>\n",
       "      <td>NaN</td>\n",
       "      <td>(not provided)</td>\n",
       "      <td>organic</td>\n",
       "      <td>NaN</td>\n",
       "      <td>google</td>\n",
       "    </tr>\n",
       "    <tr>\n",
       "      <th>2</th>\n",
       "      <td>Organic Search</td>\n",
       "      <td>20160902</td>\n",
       "      <td>3895546263509774583</td>\n",
       "      <td>1472865386</td>\n",
       "      <td>1</td>\n",
       "      <td>1472865386</td>\n",
       "      <td>Chrome</td>\n",
       "      <td>desktop</td>\n",
       "      <td>False</td>\n",
       "      <td>Windows</td>\n",
       "      <td>...</td>\n",
       "      <td>NaN</td>\n",
       "      <td>NaN</td>\n",
       "      <td>NaN</td>\n",
       "      <td>NaN</td>\n",
       "      <td>(not set)</td>\n",
       "      <td>NaN</td>\n",
       "      <td>(not provided)</td>\n",
       "      <td>organic</td>\n",
       "      <td>NaN</td>\n",
       "      <td>google</td>\n",
       "    </tr>\n",
       "    <tr>\n",
       "      <th>3</th>\n",
       "      <td>Organic Search</td>\n",
       "      <td>20160902</td>\n",
       "      <td>4763447161404445595</td>\n",
       "      <td>1472881213</td>\n",
       "      <td>1</td>\n",
       "      <td>1472881213</td>\n",
       "      <td>UC Browser</td>\n",
       "      <td>desktop</td>\n",
       "      <td>False</td>\n",
       "      <td>Linux</td>\n",
       "      <td>...</td>\n",
       "      <td>NaN</td>\n",
       "      <td>NaN</td>\n",
       "      <td>NaN</td>\n",
       "      <td>NaN</td>\n",
       "      <td>(not set)</td>\n",
       "      <td>NaN</td>\n",
       "      <td>google + online</td>\n",
       "      <td>organic</td>\n",
       "      <td>NaN</td>\n",
       "      <td>google</td>\n",
       "    </tr>\n",
       "    <tr>\n",
       "      <th>4</th>\n",
       "      <td>Organic Search</td>\n",
       "      <td>20160902</td>\n",
       "      <td>27294437909732085</td>\n",
       "      <td>1472822600</td>\n",
       "      <td>2</td>\n",
       "      <td>1472822600</td>\n",
       "      <td>Chrome</td>\n",
       "      <td>mobile</td>\n",
       "      <td>True</td>\n",
       "      <td>Android</td>\n",
       "      <td>...</td>\n",
       "      <td>NaN</td>\n",
       "      <td>NaN</td>\n",
       "      <td>NaN</td>\n",
       "      <td>NaN</td>\n",
       "      <td>(not set)</td>\n",
       "      <td>True</td>\n",
       "      <td>(not provided)</td>\n",
       "      <td>organic</td>\n",
       "      <td>NaN</td>\n",
       "      <td>google</td>\n",
       "    </tr>\n",
       "  </tbody>\n",
       "</table>\n",
       "<p>5 rows × 34 columns</p>\n",
       "</div>"
      ],
      "text/plain": [
       "  channelGrouping      date        fullVisitorId     visitId  visitNumber  \\\n",
       "0  Organic Search  20160902  1131660440785968503  1472830385            1   \n",
       "1  Organic Search  20160902   377306020877927890  1472880147            1   \n",
       "2  Organic Search  20160902  3895546263509774583  1472865386            1   \n",
       "3  Organic Search  20160902  4763447161404445595  1472881213            1   \n",
       "4  Organic Search  20160902    27294437909732085  1472822600            2   \n",
       "\n",
       "   visitStartTime device.browser device.deviceCategory  device.isMobile  \\\n",
       "0      1472830385         Chrome               desktop            False   \n",
       "1      1472880147        Firefox               desktop            False   \n",
       "2      1472865386         Chrome               desktop            False   \n",
       "3      1472881213     UC Browser               desktop            False   \n",
       "4      1472822600         Chrome                mobile             True   \n",
       "\n",
       "  device.operatingSystem         ...           \\\n",
       "0                Windows         ...            \n",
       "1              Macintosh         ...            \n",
       "2                Windows         ...            \n",
       "3                  Linux         ...            \n",
       "4                Android         ...            \n",
       "\n",
       "  trafficSource.adwordsClickInfo.gclId  \\\n",
       "0                                  NaN   \n",
       "1                                  NaN   \n",
       "2                                  NaN   \n",
       "3                                  NaN   \n",
       "4                                  NaN   \n",
       "\n",
       "  trafficSource.adwordsClickInfo.isVideoAd  \\\n",
       "0                                      NaN   \n",
       "1                                      NaN   \n",
       "2                                      NaN   \n",
       "3                                      NaN   \n",
       "4                                      NaN   \n",
       "\n",
       "  trafficSource.adwordsClickInfo.page trafficSource.adwordsClickInfo.slot  \\\n",
       "0                                 NaN                                 NaN   \n",
       "1                                 NaN                                 NaN   \n",
       "2                                 NaN                                 NaN   \n",
       "3                                 NaN                                 NaN   \n",
       "4                                 NaN                                 NaN   \n",
       "\n",
       "  trafficSource.campaign trafficSource.isTrueDirect trafficSource.keyword  \\\n",
       "0              (not set)                        NaN        (not provided)   \n",
       "1              (not set)                        NaN        (not provided)   \n",
       "2              (not set)                        NaN        (not provided)   \n",
       "3              (not set)                        NaN       google + online   \n",
       "4              (not set)                       True        (not provided)   \n",
       "\n",
       "  trafficSource.medium trafficSource.referralPath trafficSource.source  \n",
       "0              organic                        NaN               google  \n",
       "1              organic                        NaN               google  \n",
       "2              organic                        NaN               google  \n",
       "3              organic                        NaN               google  \n",
       "4              organic                        NaN               google  \n",
       "\n",
       "[5 rows x 34 columns]"
      ]
     },
     "execution_count": 9,
     "metadata": {},
     "output_type": "execute_result"
    }
   ],
   "source": [
    "trainSet.head()"
   ]
  },
  {
   "cell_type": "code",
   "execution_count": 10,
   "metadata": {},
   "outputs": [],
   "source": [
    "testSet = testSet.drop(dropCol + ['sessionId'], axis=1)"
   ]
  },
  {
   "cell_type": "code",
   "execution_count": 11,
   "metadata": {},
   "outputs": [],
   "source": [
    "trainSet['totals.transactionRevenue'].fillna(0, inplace=True)"
   ]
  },
  {
   "cell_type": "code",
   "execution_count": null,
   "metadata": {},
   "outputs": [],
   "source": []
  },
  {
   "cell_type": "code",
   "execution_count": 12,
   "metadata": {},
   "outputs": [
    {
     "name": "stdout",
     "output_type": "stream",
     "text": [
      "channelGrouping\n",
      "device.browser\n",
      "device.deviceCategory\n",
      "device.operatingSystem\n",
      "geoNetwork.city\n",
      "geoNetwork.continent\n",
      "geoNetwork.country\n",
      "geoNetwork.metro\n",
      "geoNetwork.networkDomain\n",
      "geoNetwork.region\n",
      "geoNetwork.subContinent\n",
      "trafficSource.adContent\n",
      "trafficSource.adwordsClickInfo.adNetworkType\n",
      "trafficSource.adwordsClickInfo.gclId\n",
      "trafficSource.adwordsClickInfo.page\n",
      "trafficSource.adwordsClickInfo.slot\n",
      "trafficSource.campaign\n",
      "trafficSource.keyword\n",
      "trafficSource.medium\n",
      "trafficSource.referralPath\n",
      "trafficSource.source\n",
      "trafficSource.adwordsClickInfo.isVideoAd\n",
      "trafficSource.isTrueDirect\n"
     ]
    }
   ],
   "source": [
    "from sklearn import preprocessing\n",
    "encodeCols = [\"channelGrouping\", \"device.browser\", \n",
    "            \"device.deviceCategory\", \"device.operatingSystem\", \n",
    "            \"geoNetwork.city\", \"geoNetwork.continent\", \n",
    "            \"geoNetwork.country\", \"geoNetwork.metro\",\n",
    "            \"geoNetwork.networkDomain\", \"geoNetwork.region\", \n",
    "            \"geoNetwork.subContinent\", \"trafficSource.adContent\", \n",
    "            \"trafficSource.adwordsClickInfo.adNetworkType\", \n",
    "            \"trafficSource.adwordsClickInfo.gclId\", \n",
    "            \"trafficSource.adwordsClickInfo.page\", \n",
    "            \"trafficSource.adwordsClickInfo.slot\", \"trafficSource.campaign\",\n",
    "            \"trafficSource.keyword\", \"trafficSource.medium\", \n",
    "            \"trafficSource.referralPath\", \"trafficSource.source\",\n",
    "            'trafficSource.adwordsClickInfo.isVideoAd', 'trafficSource.isTrueDirect']\n",
    "for column in encodeCols:\n",
    "    print(column)\n",
    "    labelEnc = preprocessing.LabelEncoder()\n",
    "    labelEnc.fit(list(trainSet[column].values.astype('str')) + list(testSet[column].values.astype('str')))\n",
    "    trainSet[column] = labelEnc.transform(list(trainSet[column].values.astype('str')))\n",
    "    testSet[column] = labelEnc.transform(list(testSet[column].values.astype('str')))\n",
    "\n",
    "\n",
    "numCols = [\"totals.hits\", \"totals.pageviews\", \"visitNumber\", \"visitStartTime\", 'totals.bounces', 'totals.newVisits']    \n",
    "for column in numCols:\n",
    "    trainSet[column] = trainSet[column].astype(float)\n",
    "    testSet[column] = testSet[column].astype(float)"
   ]
  },
  {
   "cell_type": "code",
   "execution_count": 13,
   "metadata": {},
   "outputs": [],
   "source": [
    "testSet=testSet.dropna()\n",
    "trainSet=trainSet.dropna()\n",
    "from sklearn.neural_network import MLPRegressor\n",
    "from sklearn.model_selection import train_test_split\n",
    "\n",
    "x_train, x_test, y_train, y_test = train_test_split(trainSet,trainSet['totals.transactionRevenue'] , test_size=0.2)\n",
    "\n",
    "#x_train = trainSet.drop(['totals.transactionRevenue'], axis=1)\n",
    "#y_train = trainSet['totals.transactionRevenue']\n",
    "#y_train=y_train.astype('int')\n",
    "#x_test=testSet\n",
    "#y_test = testSet['totals.transactionRevenue']\n",
    "#y_test=y_test.astype('int')\n"
   ]
  },
  {
   "cell_type": "code",
   "execution_count": 19,
   "metadata": {},
   "outputs": [],
   "source": [
    "mlp = MLPRegressor(hidden_layer_sizes=(100,100,100), max_iter=1000, alpha=0.0001,\n",
    "                     solver='adam')"
   ]
  },
  {
   "cell_type": "code",
   "execution_count": 20,
   "metadata": {
    "scrolled": true
   },
   "outputs": [
    {
     "data": {
      "text/plain": [
       "MLPRegressor(activation='relu', alpha=0.0001, batch_size='auto', beta_1=0.9,\n",
       "       beta_2=0.999, early_stopping=False, epsilon=1e-08,\n",
       "       hidden_layer_sizes=(100, 100, 100), learning_rate='constant',\n",
       "       learning_rate_init=0.001, max_iter=1000, momentum=0.9,\n",
       "       nesterovs_momentum=True, power_t=0.5, random_state=None,\n",
       "       shuffle=True, solver='adam', tol=0.0001, validation_fraction=0.1,\n",
       "       verbose=False, warm_start=False)"
      ]
     },
     "execution_count": 20,
     "metadata": {},
     "output_type": "execute_result"
    }
   ],
   "source": [
    "mlp.fit(x_train, y_train)\n"
   ]
  },
  {
   "cell_type": "code",
   "execution_count": 21,
   "metadata": {},
   "outputs": [],
   "source": [
    "y_pred = mlp.predict(x_test)"
   ]
  },
  {
   "cell_type": "code",
   "execution_count": 22,
   "metadata": {},
   "outputs": [
    {
     "name": "stdout",
     "output_type": "stream",
     "text": [
      "mse:  2.8425410078837114e+30 explained variance:  0.0 r2 score:  0.0\n"
     ]
    }
   ],
   "source": [
    "from sklearn.metrics import mean_squared_error\n",
    "from sklearn.metrics import explained_variance_score\n",
    "from sklearn.metrics import r2_score\n",
    "\n",
    "print(\"mse: \",mean_squared_error(y_test, y_pred),\n",
    "\"explained variance: \",explained_variance_score(y_test, y_pred),\n",
    "\"r2 score: \",r2_score(y_test, y_pred))"
   ]
  },
  {
   "cell_type": "code",
   "execution_count": 30,
   "metadata": {},
   "outputs": [
    {
     "name": "stderr",
     "output_type": "stream",
     "text": [
      "C:\\Users\\aditya\\Anaconda3\\lib\\site-packages\\sklearn\\ensemble\\weight_boosting.py:29: DeprecationWarning: numpy.core.umath_tests is an internal NumPy module and should not be imported. It will be removed in a future NumPy release.\n",
      "  from numpy.core.umath_tests import inner1d\n"
     ]
    }
   ],
   "source": [
    "from sklearn.ensemble import RandomForestRegressor\n",
    "rfc = RandomForestRegressor(max_features=2, min_samples_split=4, n_estimators=50, min_samples_leaf=2)"
   ]
  },
  {
   "cell_type": "code",
   "execution_count": 31,
   "metadata": {},
   "outputs": [
    {
     "data": {
      "text/plain": [
       "RandomForestRegressor(bootstrap=True, criterion='mse', max_depth=None,\n",
       "           max_features=2, max_leaf_nodes=None, min_impurity_decrease=0.0,\n",
       "           min_impurity_split=None, min_samples_leaf=2,\n",
       "           min_samples_split=4, min_weight_fraction_leaf=0.0,\n",
       "           n_estimators=50, n_jobs=1, oob_score=False, random_state=None,\n",
       "           verbose=0, warm_start=False)"
      ]
     },
     "execution_count": 31,
     "metadata": {},
     "output_type": "execute_result"
    }
   ],
   "source": [
    "rfc.fit(x_train, y_train)"
   ]
  },
  {
   "cell_type": "code",
   "execution_count": 32,
   "metadata": {},
   "outputs": [],
   "source": [
    "y_pred2 = rfc.predict(x_test)"
   ]
  },
  {
   "cell_type": "code",
   "execution_count": 33,
   "metadata": {},
   "outputs": [
    {
     "data": {
      "text/plain": [
       "array([0., 0., 0., ..., 0., 0., 0.])"
      ]
     },
     "execution_count": 33,
     "metadata": {},
     "output_type": "execute_result"
    }
   ],
   "source": [
    "y_pred2"
   ]
  },
  {
   "cell_type": "code",
   "execution_count": 34,
   "metadata": {},
   "outputs": [
    {
     "name": "stdout",
     "output_type": "stream",
     "text": [
      "mse:  0.0 explained variance:  1.0 r2 score:  1.0\n"
     ]
    }
   ],
   "source": [
    "print(\"mse: \",mean_squared_error(y_test, y_pred2),\n",
    "\"explained variance: \",explained_variance_score(y_test, y_pred2),\n",
    "\"r2 score: \",r2_score(y_test, y_pred2))"
   ]
  },
  {
   "cell_type": "code",
   "execution_count": 35,
   "metadata": {},
   "outputs": [],
   "source": [
    "from sklearn.ensemble import GradientBoostingRegressor\n",
    "\n",
    "gbc=GradientBoostingRegressor(loss='ls', learning_rate=0.0001, n_estimators=50, max_features='log2', min_samples_split=2, max_depth=1)"
   ]
  },
  {
   "cell_type": "code",
   "execution_count": 36,
   "metadata": {},
   "outputs": [
    {
     "data": {
      "text/plain": [
       "GradientBoostingRegressor(alpha=0.9, criterion='friedman_mse', init=None,\n",
       "             learning_rate=0.0001, loss='ls', max_depth=1,\n",
       "             max_features='log2', max_leaf_nodes=None,\n",
       "             min_impurity_decrease=0.0, min_impurity_split=None,\n",
       "             min_samples_leaf=1, min_samples_split=2,\n",
       "             min_weight_fraction_leaf=0.0, n_estimators=50, presort='auto',\n",
       "             random_state=None, subsample=1.0, verbose=0, warm_start=False)"
      ]
     },
     "execution_count": 36,
     "metadata": {},
     "output_type": "execute_result"
    }
   ],
   "source": [
    "gbc.fit(x_train, y_train)"
   ]
  },
  {
   "cell_type": "code",
   "execution_count": 37,
   "metadata": {},
   "outputs": [],
   "source": [
    "y_pred3=gbc.predict(x_test)"
   ]
  },
  {
   "cell_type": "code",
   "execution_count": 38,
   "metadata": {},
   "outputs": [
    {
     "data": {
      "text/plain": [
       "array([0., 0., 0., ..., 0., 0., 0.])"
      ]
     },
     "execution_count": 38,
     "metadata": {},
     "output_type": "execute_result"
    }
   ],
   "source": [
    "y_pred3"
   ]
  },
  {
   "cell_type": "code",
   "execution_count": 39,
   "metadata": {},
   "outputs": [
    {
     "name": "stdout",
     "output_type": "stream",
     "text": [
      "mse:  0.0 explained variance:  1.0 r2 score:  1.0\n"
     ]
    }
   ],
   "source": [
    "print(\"mse: \",mean_squared_error(y_test, y_pred3),\n",
    "\"explained variance: \",explained_variance_score(y_test, y_pred3),\n",
    "\"r2 score: \",r2_score(y_test, y_pred3))"
   ]
  },
  {
   "cell_type": "code",
   "execution_count": 24,
   "metadata": {},
   "outputs": [],
   "source": [
    "from sklearn.svm import SVR\n",
    "svr=SVR(kernel= 'poly', C= 1e3, degree= 2)"
   ]
  },
  {
   "cell_type": "code",
   "execution_count": 25,
   "metadata": {},
   "outputs": [
    {
     "data": {
      "text/plain": [
       "SVR(C=1000.0, cache_size=200, coef0=0.0, degree=2, epsilon=0.1, gamma='auto',\n",
       "  kernel='poly', max_iter=-1, shrinking=True, tol=0.001, verbose=False)"
      ]
     },
     "execution_count": 25,
     "metadata": {},
     "output_type": "execute_result"
    }
   ],
   "source": [
    "svr.fit(x_train,y_train)"
   ]
  },
  {
   "cell_type": "code",
   "execution_count": 28,
   "metadata": {},
   "outputs": [],
   "source": [
    "y_pred4=svr.predict(x_test)"
   ]
  },
  {
   "cell_type": "code",
   "execution_count": 29,
   "metadata": {},
   "outputs": [
    {
     "name": "stdout",
     "output_type": "stream",
     "text": [
      "mse:  0.0 explained variance:  1.0 r2 score:  1.0\n"
     ]
    }
   ],
   "source": [
    "print(\"mse: \",mean_squared_error(y_test, y_pred4),\n",
    "\"explained variance: \",explained_variance_score(y_test, y_pred4),\n",
    "\"r2 score: \",r2_score(y_test, y_pred4))"
   ]
  },
  {
   "cell_type": "code",
   "execution_count": 40,
   "metadata": {},
   "outputs": [],
   "source": [
    "xTrain = trainSet.drop(['totals.transactionRevenue'], axis=1)\n",
    "yTrain = trainSet['totals.transactionRevenue']\n",
    "yTrain=yTrain.astype('int')\n",
    "xTest=testSet\n",
    "#yTest = testSet['totals.transactionRevenue']\n",
    "#yTest=yTest.astype('int')"
   ]
  },
  {
   "cell_type": "code",
   "execution_count": 41,
   "metadata": {},
   "outputs": [
    {
     "data": {
      "text/plain": [
       "MLPRegressor(activation='relu', alpha=0.0001, batch_size='auto', beta_1=0.9,\n",
       "       beta_2=0.999, early_stopping=False, epsilon=1e-08,\n",
       "       hidden_layer_sizes=(100, 100, 100), learning_rate='constant',\n",
       "       learning_rate_init=0.001, max_iter=1000, momentum=0.9,\n",
       "       nesterovs_momentum=True, power_t=0.5, random_state=None,\n",
       "       shuffle=True, solver='adam', tol=0.0001, validation_fraction=0.1,\n",
       "       verbose=False, warm_start=False)"
      ]
     },
     "execution_count": 41,
     "metadata": {},
     "output_type": "execute_result"
    }
   ],
   "source": [
    "mlp.fit(xTrain, yTrain)"
   ]
  },
  {
   "cell_type": "code",
   "execution_count": 42,
   "metadata": {},
   "outputs": [],
   "source": [
    "mlpPred=mlp.predict(xTest)"
   ]
  },
  {
   "cell_type": "code",
   "execution_count": 43,
   "metadata": {},
   "outputs": [
    {
     "data": {
      "text/plain": [
       "RandomForestRegressor(bootstrap=True, criterion='mse', max_depth=None,\n",
       "           max_features=2, max_leaf_nodes=None, min_impurity_decrease=0.0,\n",
       "           min_impurity_split=None, min_samples_leaf=2,\n",
       "           min_samples_split=4, min_weight_fraction_leaf=0.0,\n",
       "           n_estimators=50, n_jobs=1, oob_score=False, random_state=None,\n",
       "           verbose=0, warm_start=False)"
      ]
     },
     "execution_count": 43,
     "metadata": {},
     "output_type": "execute_result"
    }
   ],
   "source": [
    "rfc.fit(xTrain,yTrain)"
   ]
  },
  {
   "cell_type": "code",
   "execution_count": 44,
   "metadata": {},
   "outputs": [],
   "source": [
    "rfcPred=mlp.predict(xTest)"
   ]
  },
  {
   "cell_type": "code",
   "execution_count": 45,
   "metadata": {},
   "outputs": [
    {
     "data": {
      "text/plain": [
       "GradientBoostingRegressor(alpha=0.9, criterion='friedman_mse', init=None,\n",
       "             learning_rate=0.0001, loss='ls', max_depth=1,\n",
       "             max_features='log2', max_leaf_nodes=None,\n",
       "             min_impurity_decrease=0.0, min_impurity_split=None,\n",
       "             min_samples_leaf=1, min_samples_split=2,\n",
       "             min_weight_fraction_leaf=0.0, n_estimators=50, presort='auto',\n",
       "             random_state=None, subsample=1.0, verbose=0, warm_start=False)"
      ]
     },
     "execution_count": 45,
     "metadata": {},
     "output_type": "execute_result"
    }
   ],
   "source": [
    "gbc.fit(xTrain, yTrain)"
   ]
  },
  {
   "cell_type": "code",
   "execution_count": 46,
   "metadata": {},
   "outputs": [],
   "source": [
    "gbcPred=gbc.predict(xTest)"
   ]
  },
  {
   "cell_type": "code",
   "execution_count": 47,
   "metadata": {},
   "outputs": [
    {
     "data": {
      "text/plain": [
       "SVR(C=1000.0, cache_size=200, coef0=0.0, degree=2, epsilon=0.1, gamma='auto',\n",
       "  kernel='poly', max_iter=-1, shrinking=True, tol=0.001, verbose=False)"
      ]
     },
     "execution_count": 47,
     "metadata": {},
     "output_type": "execute_result"
    }
   ],
   "source": [
    "svr.fit(xTrain, yTrain)"
   ]
  },
  {
   "cell_type": "code",
   "execution_count": 48,
   "metadata": {},
   "outputs": [],
   "source": [
    "svrPred=svr.predict(xTest)"
   ]
  },
  {
   "cell_type": "code",
   "execution_count": 68,
   "metadata": {},
   "outputs": [],
   "source": [
    "    def testOut(input):\n",
    "        tempFrame = pd.DataFrame({\"fullVisitorId\": testSet[\"fullVisitorId\"].values})\n",
    "        tempFrame[\"PredictedLogRevenue\"] = np.abs(np.expm1(input))\n",
    "        tempFrame = tempFrame.groupby(\"fullVisitorId\")[\"PredictedLogRevenue\"].sum().reset_index()\n",
    "        tempFrame.columns = [\"fullVisitorId\", \"PredictedLogRevenue\"]\n",
    "        print(tempFrame)"
   ]
  },
  {
   "cell_type": "code",
   "execution_count": 69,
   "metadata": {},
   "outputs": [
    {
     "name": "stdout",
     "output_type": "stream",
     "text": [
      "             fullVisitorId  PredictedLogRevenue\n",
      "0      0000059488412965267                  0.0\n",
      "1      0000118334805178127                  0.0\n",
      "2      0000174453501096099                  0.0\n",
      "3      0000397214032106948                  0.0\n",
      "4      0000421850492821864                  0.0\n",
      "5      0000955020478109523                  0.0\n",
      "6      0000998759681663618                  0.0\n",
      "7      0001059349366430257                  0.0\n",
      "8      0001251773762451924                  0.0\n",
      "9      0001269799921883506                  0.0\n",
      "10      000140003762682805                  0.0\n",
      "11     0001499588478181249                  0.0\n",
      "12     0001521034365414265                  0.0\n",
      "13     0001522706438705020                  0.0\n",
      "14      000184052201924153                  0.0\n",
      "15     0001875931252987660                  0.0\n",
      "16     0001936363130317831                  0.0\n",
      "17     0002032890182827978                  0.0\n",
      "18     0002261098850688772                  0.0\n",
      "19     0002585859302677487                  0.0\n",
      "20     0002710340700180818                  0.0\n",
      "21     0002716572822023371                  0.0\n",
      "22     0002767095999940001                  0.0\n",
      "23     0002790207422855765                  0.0\n",
      "24     0002898210441062509                  0.0\n",
      "25     0002982451707782308                  0.0\n",
      "26     0003221164989695564                  0.0\n",
      "27     0003383691915264439                  0.0\n",
      "28     0004109950587123497                  0.0\n",
      "29     0004420062338776803                  0.0\n",
      "...                    ...                  ...\n",
      "83071   999733032197512248                  0.0\n",
      "83072  9997386018919084520                  0.0\n",
      "83073  9997410095465539131                  0.0\n",
      "83074   999745775113794640                  0.0\n",
      "83075    99976789209401933                  0.0\n",
      "83076  9997870411663962231                  0.0\n",
      "83077  9998298038378056727                  0.0\n",
      "83078  9998324633121536664                  0.0\n",
      "83079  9998453538864140422                  0.0\n",
      "83080  9998586078553303691                  0.0\n",
      "83081  9998593574150070182                  0.0\n",
      "83082    99986329012823178                  0.0\n",
      "83083  9998706979086672199                  0.0\n",
      "83084  9998714718001469075                  0.0\n",
      "83085  9998739239824248627                  0.0\n",
      "83086  9998871186081510973                  0.0\n",
      "83087  9998875558770947556                  0.0\n",
      "83088  9998948869605353323                  0.0\n",
      "83089  9998953829285454941                  0.0\n",
      "83090  9999099829057411345                  0.0\n",
      "83091  9999138145553675515                  0.0\n",
      "83092   999914072337251353                  0.0\n",
      "83093  9999205271965164893                  0.0\n",
      "83094  9999250019952621738                  0.0\n",
      "83095  9999425102935415824                  0.0\n",
      "83096   999942696836758605                  0.0\n",
      "83097  9999664171331798815                  0.0\n",
      "83098  9999686339684184799                  0.0\n",
      "83099  9999803509476553670                  0.0\n",
      "83100  9999941518946450908                  0.0\n",
      "\n",
      "[83101 rows x 2 columns]\n"
     ]
    }
   ],
   "source": [
    "testOut(gbcPred)"
   ]
  },
  {
   "cell_type": "code",
   "execution_count": 70,
   "metadata": {},
   "outputs": [
    {
     "name": "stdout",
     "output_type": "stream",
     "text": [
      "             fullVisitorId  PredictedLogRevenue\n",
      "0      0000059488412965267                  1.0\n",
      "1      0000118334805178127                  1.0\n",
      "2      0000174453501096099                  1.0\n",
      "3      0000397214032106948                  1.0\n",
      "4      0000421850492821864                  1.0\n",
      "5      0000955020478109523                  1.0\n",
      "6      0000998759681663618                  1.0\n",
      "7      0001059349366430257                  1.0\n",
      "8      0001251773762451924                  1.0\n",
      "9      0001269799921883506                  1.0\n",
      "10      000140003762682805                  1.0\n",
      "11     0001499588478181249                  1.0\n",
      "12     0001521034365414265                  1.0\n",
      "13     0001522706438705020                  1.0\n",
      "14      000184052201924153                  1.0\n",
      "15     0001875931252987660                  1.0\n",
      "16     0001936363130317831                  1.0\n",
      "17     0002032890182827978                  1.0\n",
      "18     0002261098850688772                  1.0\n",
      "19     0002585859302677487                  1.0\n",
      "20     0002710340700180818                  1.0\n",
      "21     0002716572822023371                  1.0\n",
      "22     0002767095999940001                  1.0\n",
      "23     0002790207422855765                  1.0\n",
      "24     0002898210441062509                  1.0\n",
      "25     0002982451707782308                  1.0\n",
      "26     0003221164989695564                  1.0\n",
      "27     0003383691915264439                  1.0\n",
      "28     0004109950587123497                  1.0\n",
      "29     0004420062338776803                  1.0\n",
      "...                    ...                  ...\n",
      "83071   999733032197512248                  1.0\n",
      "83072  9997386018919084520                  1.0\n",
      "83073  9997410095465539131                  1.0\n",
      "83074   999745775113794640                  1.0\n",
      "83075    99976789209401933                  1.0\n",
      "83076  9997870411663962231                  1.0\n",
      "83077  9998298038378056727                  1.0\n",
      "83078  9998324633121536664                  1.0\n",
      "83079  9998453538864140422                  1.0\n",
      "83080  9998586078553303691                  1.0\n",
      "83081  9998593574150070182                  1.0\n",
      "83082    99986329012823178                  1.0\n",
      "83083  9998706979086672199                  1.0\n",
      "83084  9998714718001469075                  1.0\n",
      "83085  9998739239824248627                  1.0\n",
      "83086  9998871186081510973                  1.0\n",
      "83087  9998875558770947556                  1.0\n",
      "83088  9998948869605353323                  1.0\n",
      "83089  9998953829285454941                  1.0\n",
      "83090  9999099829057411345                  1.0\n",
      "83091  9999138145553675515                  1.0\n",
      "83092   999914072337251353                  1.0\n",
      "83093  9999205271965164893                  1.0\n",
      "83094  9999250019952621738                  1.0\n",
      "83095  9999425102935415824                  1.0\n",
      "83096   999942696836758605                  1.0\n",
      "83097  9999664171331798815                  1.0\n",
      "83098  9999686339684184799                  1.0\n",
      "83099  9999803509476553670                  1.0\n",
      "83100  9999941518946450908                  1.0\n",
      "\n",
      "[83101 rows x 2 columns]\n"
     ]
    },
    {
     "name": "stderr",
     "output_type": "stream",
     "text": [
      "C:\\Users\\aditya\\Anaconda3\\lib\\site-packages\\ipykernel_launcher.py:3: RuntimeWarning: overflow encountered in expm1\n",
      "  This is separate from the ipykernel package so we can avoid doing imports until\n",
      "C:\\Users\\aditya\\Anaconda3\\lib\\site-packages\\ipykernel_launcher.py:3: RuntimeWarning: invalid value encountered in expm1\n",
      "  This is separate from the ipykernel package so we can avoid doing imports until\n"
     ]
    }
   ],
   "source": [
    "testOut(rfcPred)"
   ]
  },
  {
   "cell_type": "code",
   "execution_count": 71,
   "metadata": {},
   "outputs": [
    {
     "name": "stderr",
     "output_type": "stream",
     "text": [
      "C:\\Users\\aditya\\Anaconda3\\lib\\site-packages\\ipykernel_launcher.py:3: RuntimeWarning: overflow encountered in expm1\n",
      "  This is separate from the ipykernel package so we can avoid doing imports until\n",
      "C:\\Users\\aditya\\Anaconda3\\lib\\site-packages\\ipykernel_launcher.py:3: RuntimeWarning: invalid value encountered in expm1\n",
      "  This is separate from the ipykernel package so we can avoid doing imports until\n"
     ]
    },
    {
     "name": "stdout",
     "output_type": "stream",
     "text": [
      "             fullVisitorId  PredictedLogRevenue\n",
      "0      0000059488412965267                  1.0\n",
      "1      0000118334805178127                  1.0\n",
      "2      0000174453501096099                  1.0\n",
      "3      0000397214032106948                  1.0\n",
      "4      0000421850492821864                  1.0\n",
      "5      0000955020478109523                  1.0\n",
      "6      0000998759681663618                  1.0\n",
      "7      0001059349366430257                  1.0\n",
      "8      0001251773762451924                  1.0\n",
      "9      0001269799921883506                  1.0\n",
      "10      000140003762682805                  1.0\n",
      "11     0001499588478181249                  1.0\n",
      "12     0001521034365414265                  1.0\n",
      "13     0001522706438705020                  1.0\n",
      "14      000184052201924153                  1.0\n",
      "15     0001875931252987660                  1.0\n",
      "16     0001936363130317831                  1.0\n",
      "17     0002032890182827978                  1.0\n",
      "18     0002261098850688772                  1.0\n",
      "19     0002585859302677487                  1.0\n",
      "20     0002710340700180818                  1.0\n",
      "21     0002716572822023371                  1.0\n",
      "22     0002767095999940001                  1.0\n",
      "23     0002790207422855765                  1.0\n",
      "24     0002898210441062509                  1.0\n",
      "25     0002982451707782308                  1.0\n",
      "26     0003221164989695564                  1.0\n",
      "27     0003383691915264439                  1.0\n",
      "28     0004109950587123497                  1.0\n",
      "29     0004420062338776803                  1.0\n",
      "...                    ...                  ...\n",
      "83071   999733032197512248                  1.0\n",
      "83072  9997386018919084520                  1.0\n",
      "83073  9997410095465539131                  1.0\n",
      "83074   999745775113794640                  1.0\n",
      "83075    99976789209401933                  1.0\n",
      "83076  9997870411663962231                  1.0\n",
      "83077  9998298038378056727                  1.0\n",
      "83078  9998324633121536664                  1.0\n",
      "83079  9998453538864140422                  1.0\n",
      "83080  9998586078553303691                  1.0\n",
      "83081  9998593574150070182                  1.0\n",
      "83082    99986329012823178                  1.0\n",
      "83083  9998706979086672199                  1.0\n",
      "83084  9998714718001469075                  1.0\n",
      "83085  9998739239824248627                  1.0\n",
      "83086  9998871186081510973                  1.0\n",
      "83087  9998875558770947556                  1.0\n",
      "83088  9998948869605353323                  1.0\n",
      "83089  9998953829285454941                  1.0\n",
      "83090  9999099829057411345                  1.0\n",
      "83091  9999138145553675515                  1.0\n",
      "83092   999914072337251353                  1.0\n",
      "83093  9999205271965164893                  1.0\n",
      "83094  9999250019952621738                  1.0\n",
      "83095  9999425102935415824                  1.0\n",
      "83096   999942696836758605                  1.0\n",
      "83097  9999664171331798815                  1.0\n",
      "83098  9999686339684184799                  1.0\n",
      "83099  9999803509476553670                  1.0\n",
      "83100  9999941518946450908                  1.0\n",
      "\n",
      "[83101 rows x 2 columns]\n"
     ]
    }
   ],
   "source": [
    "testOut(mlpPred)"
   ]
  },
  {
   "cell_type": "code",
   "execution_count": 72,
   "metadata": {},
   "outputs": [
    {
     "name": "stdout",
     "output_type": "stream",
     "text": [
      "             fullVisitorId  PredictedLogRevenue\n",
      "0      0000059488412965267                  0.0\n",
      "1      0000118334805178127                  0.0\n",
      "2      0000174453501096099                  0.0\n",
      "3      0000397214032106948                  0.0\n",
      "4      0000421850492821864                  0.0\n",
      "5      0000955020478109523                  0.0\n",
      "6      0000998759681663618                  0.0\n",
      "7      0001059349366430257                  0.0\n",
      "8      0001251773762451924                  0.0\n",
      "9      0001269799921883506                  0.0\n",
      "10      000140003762682805                  0.0\n",
      "11     0001499588478181249                  0.0\n",
      "12     0001521034365414265                  0.0\n",
      "13     0001522706438705020                  0.0\n",
      "14      000184052201924153                  0.0\n",
      "15     0001875931252987660                  0.0\n",
      "16     0001936363130317831                  0.0\n",
      "17     0002032890182827978                  0.0\n",
      "18     0002261098850688772                  0.0\n",
      "19     0002585859302677487                  0.0\n",
      "20     0002710340700180818                  0.0\n",
      "21     0002716572822023371                  0.0\n",
      "22     0002767095999940001                  0.0\n",
      "23     0002790207422855765                  0.0\n",
      "24     0002898210441062509                  0.0\n",
      "25     0002982451707782308                  0.0\n",
      "26     0003221164989695564                  0.0\n",
      "27     0003383691915264439                  0.0\n",
      "28     0004109950587123497                  0.0\n",
      "29     0004420062338776803                  0.0\n",
      "...                    ...                  ...\n",
      "83071   999733032197512248                  0.0\n",
      "83072  9997386018919084520                  0.0\n",
      "83073  9997410095465539131                  0.0\n",
      "83074   999745775113794640                  0.0\n",
      "83075    99976789209401933                  0.0\n",
      "83076  9997870411663962231                  0.0\n",
      "83077  9998298038378056727                  0.0\n",
      "83078  9998324633121536664                  0.0\n",
      "83079  9998453538864140422                  0.0\n",
      "83080  9998586078553303691                  0.0\n",
      "83081  9998593574150070182                  0.0\n",
      "83082    99986329012823178                  0.0\n",
      "83083  9998706979086672199                  0.0\n",
      "83084  9998714718001469075                  0.0\n",
      "83085  9998739239824248627                  0.0\n",
      "83086  9998871186081510973                  0.0\n",
      "83087  9998875558770947556                  0.0\n",
      "83088  9998948869605353323                  0.0\n",
      "83089  9998953829285454941                  0.0\n",
      "83090  9999099829057411345                  0.0\n",
      "83091  9999138145553675515                  0.0\n",
      "83092   999914072337251353                  0.0\n",
      "83093  9999205271965164893                  0.0\n",
      "83094  9999250019952621738                  0.0\n",
      "83095  9999425102935415824                  0.0\n",
      "83096   999942696836758605                  0.0\n",
      "83097  9999664171331798815                  0.0\n",
      "83098  9999686339684184799                  0.0\n",
      "83099  9999803509476553670                  0.0\n",
      "83100  9999941518946450908                  0.0\n",
      "\n",
      "[83101 rows x 2 columns]\n"
     ]
    }
   ],
   "source": [
    "testOut(svrPred)"
   ]
  }
 ],
 "metadata": {
  "kernelspec": {
   "display_name": "Python 3",
   "language": "python",
   "name": "python3"
  },
  "language_info": {
   "codemirror_mode": {
    "name": "ipython",
    "version": 3
   },
   "file_extension": ".py",
   "mimetype": "text/x-python",
   "name": "python",
   "nbconvert_exporter": "python",
   "pygments_lexer": "ipython3",
   "version": "3.7.0"
  }
 },
 "nbformat": 4,
 "nbformat_minor": 2
}
